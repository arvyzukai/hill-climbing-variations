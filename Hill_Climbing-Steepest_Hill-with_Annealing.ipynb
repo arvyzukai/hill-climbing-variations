{
 "cells": [
  {
   "cell_type": "markdown",
   "metadata": {},
   "source": [
    "# Hill Climbing - Steepest Hill - with Annealing\n",
    "\n",
    "---\n",
    "\n",
    "In this notebook, we will train hill climbing with Annealing noise scaling with OpenAI Gym's Cartpole environment."
   ]
  },
  {
   "cell_type": "markdown",
   "metadata": {},
   "source": [
    "### 1. Import the Necessary Packages"
   ]
  },
  {
   "cell_type": "code",
   "execution_count": 1,
   "metadata": {},
   "outputs": [],
   "source": [
    "import gym\n",
    "import numpy as np\n",
    "import pandas as pd\n",
    "from collections import deque\n",
    "import matplotlib.pyplot as plt\n",
    "%matplotlib inline\n",
    "\n",
    "#!python -m pip install pyvirtualdisplay\n",
    "#from pyvirtualdisplay import Display\n",
    "#display = Display(visible=0, size=(1400, 900))\n",
    "#display.start()\n",
    "\n",
    "#is_ipython = 'inline' in plt.get_backend()\n",
    "#if is_ipython:\n",
    "#    from IPython import display\n",
    "\n",
    "plt.ion()"
   ]
  },
  {
   "cell_type": "markdown",
   "metadata": {},
   "source": [
    "### 2. Define the Policy"
   ]
  },
  {
   "cell_type": "code",
   "execution_count": 3,
   "metadata": {},
   "outputs": [
    {
     "name": "stdout",
     "output_type": "stream",
     "text": [
      "observation space: Box(-3.4028234663852886e+38, 3.4028234663852886e+38, (4,), float32)\n",
      "action space: Discrete(2)\n"
     ]
    }
   ],
   "source": [
    "env = gym.make('CartPole-v0')\n",
    "print('observation space:', env.observation_space)\n",
    "print('action space:', env.action_space)\n",
    "\n",
    "class Policy():\n",
    "    def __init__(self, s_size=4, a_size=2):\n",
    "        self.w = 1e-4*np.random.rand(s_size, a_size)  # weights for simple linear policy: state_space x action_space\n",
    "        \n",
    "    def forward(self, state):\n",
    "        x = np.dot(state, self.w)\n",
    "        return np.exp(x)/sum(np.exp(x))        # softmax'as\n",
    "    \n",
    "    def pick_action(self, state):\n",
    "        probs = self.forward(state)\n",
    "        action = np.random.choice(2, p=probs) # option 1: stochastic policy\n",
    "        #action = np.argmax(probs)              # option 2: deterministic policy\n",
    "        return action"
   ]
  },
  {
   "cell_type": "markdown",
   "metadata": {},
   "source": [
    "### 3. Train the Agent with Stochastic Policy Search"
   ]
  },
  {
   "cell_type": "code",
   "execution_count": 4,
   "metadata": {
    "scrolled": true
   },
   "outputs": [
    {
     "name": "stdout",
     "output_type": "stream",
     "text": [
      "Episode 100\tAverage Score: 20.66\n",
      "Episode 200\tAverage Score: 23.23\n",
      "Episode 300\tAverage Score: 22.30\n",
      "Episode 400\tAverage Score: 22.95\n",
      "Episode 500\tAverage Score: 22.83\n",
      "Episode 600\tAverage Score: 20.34\n",
      "Episode 700\tAverage Score: 23.51\n",
      "Episode 800\tAverage Score: 22.72\n",
      "Episode 900\tAverage Score: 23.66\n",
      "Episode 1000\tAverage Score: 21.45\n"
     ]
    }
   ],
   "source": [
    "env = gym.make('CartPole-v0')\n",
    "env.seed(0)       # 0\n",
    "np.random.seed(0) # 0\n",
    "\n",
    "policy = Policy()\n",
    "\n",
    "def hill_climbing(n_episodes=1000, n_cand=10, max_t=1000, gamma=1.0, print_every=100, noise_scale=1e-2, noise_decay=0.99, verbose=True):\n",
    "    \"\"\"Implementation of Steepest hill climbing with Annealing.\n",
    "        \n",
    "    Params\n",
    "    ======\n",
    "        n_episodes (int): maximum number of training episodes\n",
    "        max_t (int): maximum number of timesteps per episode\n",
    "        gamma (float): discount rate\n",
    "        print_every (int): how often to print average score (over last 100 episodes)\n",
    "        noise_scale (float): standard deviation of additive noise\n",
    "    \"\"\"\n",
    "    scores_deque = deque(maxlen=100)\n",
    "    scores = []\n",
    "    best_R = -np.Inf\n",
    "    #best_cand_R = best_R\n",
    "    best_w = policy.w\n",
    "    for i_episode in range(1, n_episodes+1):\n",
    "        #breakpoint()\n",
    "        for c in range(n_cand):\n",
    "            best_cand_R = -np.Inf\n",
    "            policy.w = best_w + noise_scale * np.random.rand(*policy.w.shape)\n",
    "            rewards = []\n",
    "            state = env.reset()\n",
    "            for t in range(max_t):\n",
    "                action = policy.pick_action(state)\n",
    "                state, reward, done, _ = env.step(action)\n",
    "                rewards.append(reward)\n",
    "                if done:\n",
    "                    break\n",
    "\n",
    "            discounts = [gamma**i for i in range(len(rewards)+1)]\n",
    "            R = sum([a*b for a,b in zip(discounts, rewards)])\n",
    "\n",
    "            if R > best_cand_R: # found better weights\n",
    "                best_cand_R = R\n",
    "                best_cand_w = policy.w\n",
    "        \n",
    "        if best_cand_R >= best_R:\n",
    "            #breakpoint()\n",
    "            best_R = best_cand_R\n",
    "            best_w = best_cand_w\n",
    "            policy.w = best_w\n",
    "            noise_scale *= noise_decay                # Annealing\n",
    "       # else: # did not find better weights\n",
    "            #policy.w += noise_scale * np.random.rand(*policy.w.shape) # generuojamas kandidatas\n",
    "            \n",
    "        scores_deque.append(sum(rewards))\n",
    "        scores.append(sum(rewards))\n",
    "        if verbose & (i_episode % print_every == 0):\n",
    "            print('Episode {}\\tAverage Score: {:.2f}'.format(i_episode, np.mean(scores_deque)))\n",
    "        if (np.mean(scores_deque)>=195.0) & (len(scores_deque)==100):\n",
    "            if verbose:\n",
    "                print('Environment solved in {:d} episodes!\\tAverage Score: {:.2f}'.format(len(scores), np.mean(scores_deque)))\n",
    "            policy.w = best_w\n",
    "            break\n",
    "\n",
    "    return scores\n",
    "            \n",
    "scores = hill_climbing()"
   ]
  },
  {
   "cell_type": "markdown",
   "metadata": {},
   "source": [
    "### 4. Plot the Scores"
   ]
  },
  {
   "cell_type": "code",
   "execution_count": 5,
   "metadata": {},
   "outputs": [
    {
     "data": {
      "image/png": "[encoded data removed]",
      "text/plain": [
       "<Figure size 432x288 with 1 Axes>"
      ]
     },
     "metadata": {
      "needs_background": "light"
     },
     "output_type": "display_data"
    }
   ],
   "source": [
    "fig = plt.figure()\n",
    "ax = fig.add_subplot(111)\n",
    "plt.plot(np.arange(1, len(scores)+1), scores)\n",
    "plt.ylabel('Score')\n",
    "plt.xlabel('Episode #')\n",
    "plt.show()"
   ]
  },
  {
   "cell_type": "code",
   "execution_count": 7,
   "metadata": {},
   "outputs": [
    {
     "data": {
      "text/plain": [
       "'\\n    Observation:\\n        Type: Box(4)\\n        Num     Observation               Min                     Max\\n        0       Cart Position             -4.8                    4.8\\n        1       Cart Velocity             -Inf                    Inf\\n        2       Pole Angle                -0.418 rad (-24 deg)    0.418 rad (24 deg)\\n        3       Pole Angular Velocity     -Inf                    Inf\\n    Actions:\\n        Type: Discrete(2)\\n        Num   Action\\n        0     Push cart to the left\\n        1     Push cart to the right\\n        \\n'"
      ]
     },
     "execution_count": 7,
     "metadata": {},
     "output_type": "execute_result"
    }
   ],
   "source": [
    "\"\"\"\n",
    "    Observation:\n",
    "        Type: Box(4)\n",
    "        Num     Observation               Min                     Max\n",
    "        0       Cart Position             -4.8                    4.8\n",
    "        1       Cart Velocity             -Inf                    Inf\n",
    "        2       Pole Angle                -0.418 rad (-24 deg)    0.418 rad (24 deg)\n",
    "        3       Pole Angular Velocity     -Inf                    Inf\n",
    "    Actions:\n",
    "        Type: Discrete(2)\n",
    "        Num   Action\n",
    "        0     Push cart to the left\n",
    "        1     Push cart to the right\n",
    "        \n",
    "\"\"\""
   ]
  },
  {
   "cell_type": "markdown",
   "metadata": {},
   "source": [
    "### 5. Watch a Smart Agent!"
   ]
  },
  {
   "cell_type": "code",
   "execution_count": 6,
   "metadata": {},
   "outputs": [
    {
     "data": {
      "image/png": "[encoded data removed]",
      "text/plain": [
       "<Figure size 432x288 with 1 Axes>"
      ]
     },
     "metadata": {
      "needs_background": "light"
     },
     "output_type": "display_data"
    }
   ],
   "source": [
    "env = gym.make('CartPole-v0')\n",
    "state = env.reset()\n",
    "img = plt.imshow(env.render(mode='rgb_array'))\n",
    "for t in range(200):\n",
    "    #breakpoint()\n",
    "    action = policy.pick_action(state)\n",
    "    img.set_data(env.render(mode='rgb_array')) \n",
    "    plt.axis('off')\n",
    "    #display.display(plt.gcf())\n",
    "    #display.clear_output(wait=True)\n",
    "    state, reward, done, _ = env.step(action)\n",
    "    if done:\n",
    "        break \n",
    "\n",
    "env.close()"
   ]
  },
  {
   "cell_type": "code",
   "execution_count": 7,
   "metadata": {},
   "outputs": [
    {
     "data": {
      "text/plain": [
       "array([[0.0645615 , 0.07480047],\n",
       "       [0.066335  , 0.06293815],\n",
       "       [0.08632966, 0.05562549],\n",
       "       [0.08119195, 0.06951608]])"
      ]
     },
     "execution_count": 7,
     "metadata": {},
     "output_type": "execute_result"
    }
   ],
   "source": [
    "policy.w"
   ]
  },
  {
   "cell_type": "markdown",
   "metadata": {},
   "source": [
    "### 6. Get distribution of episodes needed to solve"
   ]
  },
  {
   "cell_type": "code",
   "execution_count": 8,
   "metadata": {
    "scrolled": true
   },
   "outputs": [
    {
     "name": "stdout",
     "output_type": "stream",
     "text": [
      "Wall time: 2h 11min 1s\n"
     ]
    }
   ],
   "source": [
    "%%time\n",
    "distribution = []\n",
    "weights_history = []\n",
    "for i in range(1000):\n",
    "    env = gym.make('CartPole-v0')\n",
    "    env.seed(i)\n",
    "    np.random.seed(i)\n",
    "\n",
    "    policy = Policy()\n",
    "    scores = hill_climbing(verbose=False)\n",
    "    distribution.append(len(scores))\n",
    "    weights_history.append(policy.w)"
   ]
  },
  {
   "cell_type": "code",
   "execution_count": 9,
   "metadata": {},
   "outputs": [
    {
     "data": {
      "image/png": "[encoded data removed]",
      "text/plain": [
       "<Figure size 432x288 with 1 Axes>"
      ]
     },
     "metadata": {
      "needs_background": "light"
     },
     "output_type": "display_data"
    }
   ],
   "source": [
    "ep_needed = np.array(distribution)\n",
    "bins=np.logspace(np.log10(100),np.log10(1000), 50)\n",
    "\n",
    "plt.figure()\n",
    "plt.hist(ep_needed, bins)\n",
    "plt.gca().set_xscale(\"log\")\n",
    "plt.show()"
   ]
  },
  {
   "cell_type": "code",
   "execution_count": 10,
   "metadata": {},
   "outputs": [
    {
     "data": {
      "text/plain": [
       "0.0"
      ]
     },
     "execution_count": 10,
     "metadata": {},
     "output_type": "execute_result"
    }
   ],
   "source": [
    "sum(ep_needed < 1000) / len(ep_needed)"
   ]
  },
  {
   "cell_type": "code",
   "execution_count": 11,
   "metadata": {},
   "outputs": [],
   "source": [
    "# Save history of Episodes needed\n",
    "pd.Series(distribution).to_csv('SHC_A_S.csv')\n",
    "\n",
    "# Save weights\n",
    "arr = np.array(weights_history)\n",
    "indx = pd.MultiIndex.from_product([range(s)for s in arr.shape], names=['run', 'x', 'y'])\n",
    "df = pd.Series(arr.flatten(), index=indx).unstack()\n",
    "df.to_pickle('SHC_A_w_S.df')"
   ]
  },
  {
   "cell_type": "code",
   "execution_count": null,
   "metadata": {},
   "outputs": [],
   "source": []
  }
 ],
 "metadata": {
  "anaconda-cloud": {},
  "kernelspec": {
   "display_name": "Python 3",
   "language": "python",
   "name": "python3"
  },
  "language_info": {
   "codemirror_mode": {
    "name": "ipython",
    "version": 3
   },
   "file_extension": ".py",
   "mimetype": "text/x-python",
   "name": "python",
   "nbconvert_exporter": "python",
   "pygments_lexer": "ipython3",
   "version": "3.8.5"
  }
 },
 "nbformat": 4,
 "nbformat_minor": 2
}
